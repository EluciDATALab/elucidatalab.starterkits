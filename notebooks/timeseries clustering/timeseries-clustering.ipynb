{
 "cells": [
  {
   "cell_type": "code",
   "execution_count": null,
   "id": "50d564fa-e9df-4b7e-8a00-860b1eab1221",
   "metadata": {},
   "outputs": [],
   "source": [
    "import pandas as pd\n",
    "import numpy as np\n",
    "from pathlib import Path\n",
    "\n",
    "import matplotlib.pyplot as plt\n",
    "import seaborn as sb\n",
    "\n",
    "from starterkits.visualization import vis_tools\n",
    "\n",
    "# from starterkits import DATA_PATH\n",
    "DATA_PATH = Path('/Users/hcab/Documents/projects/data/')\n",
    "import support as sp\n",
    "import visualizations as vis\n",
    "\n",
    "%load_ext autoreload\n",
    "%autoreload 2"
   ]
  },
  {
   "cell_type": "code",
   "execution_count": null,
   "id": "105a34a8-850f-4f9a-9397-ac1021359a5a",
   "metadata": {},
   "outputs": [],
   "source": [
    "data_dir = DATA_PATH / 'smart_meters_london'\n",
    "\n",
    "acorns = pd.read_csv(data_dir / 'acorn_details.csv', encoding=\"ISO-8859-1\")\n",
    "acorns_age = acorns[acorns.CATEGORIES == 'Age'].set_index('REFERENCE').iloc[:, 2:]\n",
    "n_acorns_age = acorns_age.apply(lambda x: x/x.sum(), axis=1)\n",
    "std_n_acorns_age = n_acorns_age.std(axis=0).sort_values(ascending=False)"
   ]
  },
  {
   "cell_type": "code",
   "execution_count": null,
   "id": "d5cefaf6-d146-48e9-9e35-4cc3f1a705c9",
   "metadata": {},
   "outputs": [],
   "source": [
    "from sklearn.cluster import AgglomerativeClustering\n",
    "\n",
    "X = n_acorns_age.T\n",
    "clusters = AgglomerativeClustering(n_clusters=4).fit_predict(X)\n",
    "\n",
    "keep_acorns = []\n",
    "for c in np.unique(clusters):\n",
    "    id_cluster = clusters == c\n",
    "    if id_cluster.sum() == 1:\n",
    "        keep_acorns.append(n_acorns_age.columns.values[np.argwhere(id_cluster).squeeze()])\n",
    "    else:\n",
    "        corr_cluster = n_acorns_age.loc[:, id_cluster].corr()\n",
    "        keep_acorns.append(corr_cluster.mean().idxmax())\n",
    "        \n",
    "selected_acorns = pd.melt(n_acorns_age.loc[:, keep_acorns].reset_index(), id_vars='REFERENCE')\n",
    "\n",
    "fig, axes = plt.subplots(1, len(keep_acorns), figsize=(15, 5))\n",
    "for k, a in enumerate(keep_acorns):\n",
    "    n_acorns_age_sub = n_acorns_age[a]\n",
    "    axes[k].bar(n_acorns_age_sub.index, n_acorns_age_sub)\n",
    "    vis_tools.format_axes(is_date=False, axes=axes[k])\n",
    "vis_tools.add_facet_axes_labels(axes, 1, len(keep_acorns), 'Age group', 'Prevalence', keep_acorns)\n",
    "fig.suptitle('Distribution across age groups of selected ACORNS', fontsize=20)\n",
    "fig.tight_layout();\n"
   ]
  },
  {
   "cell_type": "code",
   "execution_count": null,
   "id": "a9efb1db-88b8-4862-bb13-752401940978",
   "metadata": {},
   "outputs": [],
   "source": [
    "acorns = pd.read_csv(data_dir / 'informations_households.csv')\n",
    "np.random.seed(77)\n",
    "lcl_ids = []\n",
    "for a in keep_acorns:\n",
    "    lcl_ids.append(info_households[info_households.Acorn == a].LCLid.sample(2, replace=False).values)\n",
    "    \n",
    "lcl_ids = np.concatenate(lcl_ids)"
   ]
  },
  {
   "cell_type": "code",
   "execution_count": null,
   "id": "ac21be13-0bbc-4bdc-935c-4124911422bf",
   "metadata": {},
   "outputs": [],
   "source": [
    "info_households = pd.read_csv(data_dir / 'informations_households.csv')"
   ]
  },
  {
   "cell_type": "code",
   "execution_count": null,
   "id": "a876f1bf-8500-4a35-9ca4-8a618032fbc5",
   "metadata": {},
   "outputs": [],
   "source": [
    "def read_smartmeter(f):\n",
    "    ds = pd.read_csv(f)\n",
    "    return ds#[ds.LCLid.isin(lcl_ids)]\n",
    "ds = pd.concat([read_smartmeter(f) for f in (data_dir / 'halfhourly_dataset').glob('*csv')])\n",
    "\n",
    "ds['tstp'] = pd.to_datetime(ds.tstp)\n",
    "ds.rename(columns={'tstp': 'datetime', 'energy(kWh/hh)': 'energy'}, inplace=True)\n",
    "ds.set_index(['LCLid', 'datetime'], inplace=True)\n",
    "ds[ds.energy=='Null'] = None\n",
    "ds['energy'] = ds['energy'].astype(float)"
   ]
  },
  {
   "cell_type": "code",
   "execution_count": null,
   "id": "27a06f7a-e856-4a9d-b3ec-d889544f9839",
   "metadata": {},
   "outputs": [],
   "source": [
    "cols = ['energy']\n",
    "no_nulls = (ds\n",
    "            .groupby(['LCLid', 'date'])\n",
    "            [cols]\n",
    "            .apply(lambda x: pd.isnull(x).sum())\n",
    "            > 0)\n",
    "no_nulls = no_nulls.reset_index().rename(columns={'energy': 'has_nulls'})\n",
    "ds = (ds\n",
    "      .reset_index()\n",
    "      .merge(no_nulls[no_nulls.has_nulls == False].drop(columns='has_nulls'),\n",
    "             on=['LCLid', 'date'])\n",
    "      .set_index(['LCLid', 'datetime']))"
   ]
  },
  {
   "cell_type": "code",
   "execution_count": null,
   "id": "366eb0da-e536-4c42-a71d-6b8f19581603",
   "metadata": {},
   "outputs": [],
   "source": [
    "ds = sp.get_holidays(ds, data_dir)\n",
    "ds['wday'] = ds.index.get_level_values(1).weekday\n",
    "ds['date'] = ds.index.get_level_values(1).date\n",
    "ds['quarter'] = ds.index.get_level_values(1).quarter"
   ]
  },
  {
   "cell_type": "code",
   "execution_count": null,
   "id": "8c6865ac-fd9d-4151-8634-6c49735abccd",
   "metadata": {},
   "outputs": [],
   "source": [
    "results_radius_tuning = sp.finetune_dtw_radius(ds, 'energy')"
   ]
  },
  {
   "cell_type": "code",
   "execution_count": null,
   "id": "c2dcc331-09ce-44d0-b60f-b01f2171fc02",
   "metadata": {},
   "outputs": [],
   "source": [
    "vis.plot_dtw_convergence_radius_tuning(results_radius_tuning)"
   ]
  },
  {
   "cell_type": "code",
   "execution_count": null,
   "id": "36c9d067-f369-4f29-8d25-c568ee7b2a9d",
   "metadata": {},
   "outputs": [],
   "source": [
    "radius = vis.get_radius_at_convergion(results_radius_tuning, thresh_0=0.5)"
   ]
  },
  {
   "cell_type": "code",
   "execution_count": null,
   "id": "f53246df-a140-48a6-a6f2-b2c2ccdc9ee6",
   "metadata": {},
   "outputs": [],
   "source": [
    "ds_sub = []\n",
    "np.random.seed(77)\n",
    "for l in np.unique(ds.index.get_level_values(0)):\n",
    "    rnd_dates = ds.loc[pd.IndexSlice[l,:], 'date'].sample(20, replace=False).values\n",
    "    ds_sub.append(ds[(ds.index.get_level_values(0) == l) & (ds['date'].isin(rnd_dates))])\n",
    "ds_sub = pd.concat(ds_sub)"
   ]
  },
  {
   "cell_type": "code",
   "execution_count": null,
   "id": "c24b6782-b935-4cdd-8eb5-ee3e2c357591",
   "metadata": {},
   "outputs": [],
   "source": [
    "dist_matrix, ds_dist_matrix, ds_units = sp.get_distance_matrix(ds_sub, int(radius), ['energy'])"
   ]
  },
  {
   "cell_type": "code",
   "execution_count": null,
   "id": "867194e4-5479-4224-8078-9e6ebac4846d",
   "metadata": {},
   "outputs": [],
   "source": [
    "vis.get_best_number_clusters(dist_matrix);"
   ]
  },
  {
   "cell_type": "code",
   "execution_count": null,
   "id": "90f45f23-02a9-450f-825a-e6a10492f9e5",
   "metadata": {},
   "outputs": [],
   "source": [
    "cluster_day, cluster_lclid, cluster_colors = sp.make_kmedoid_clustering(\n",
    "    dist_matrix, ds_units, 5)\n",
    "\n",
    "ds_dist_matrix, cluster_ranks, cluster_centers = sp.add_cluster_to_results(\n",
    "    ds_dist_matrix, cluster_day)\n",
    "\n"
   ]
  },
  {
   "cell_type": "code",
   "execution_count": null,
   "id": "c32e5fcf-102f-437e-9895-0a24d237f0ef",
   "metadata": {},
   "outputs": [],
   "source": [
    "plt.figure(figsize=(15, 5))\n",
    "sb.countplot(data=cluster_day, x='cluster', palette=cluster_colors, order=cluster_colors.keys())\n",
    "vis_tools.axes_font_size('Cluster ID', 'Count', 'Trial distribution per cluster');"
   ]
  },
  {
   "cell_type": "code",
   "execution_count": null,
   "id": "e454ce59-3211-41da-afa0-f7ffc2341cc8",
   "metadata": {},
   "outputs": [],
   "source": [
    "cols = ['energy']\n",
    "def _reshape_for_dtw(ds, r):\n",
    "    return ds.loc[pd.IndexSlice[r.LCLid, str(r.date)], cols]\n",
    "\n",
    "def _inverse_reshape(x, LCLid, cluster):\n",
    "    x.index = (x.index - x.index.min()) / np.timedelta64(1, 'h')\n",
    "    x.reset_index(inplace=True)\n",
    "    x['LCLid'] = LCLid\n",
    "    x['cluster'] = cluster\n",
    "    \n",
    "    return x.set_index(['LCLid', 'datetime'])\n",
    "    \n",
    "\n",
    "\n",
    "def align_to_ref(ref, target):\n",
    "    align = dtw(target.values, ref.values)\n",
    "    return target.iloc[align.get_warping_path(),:]\n",
    "\n",
    "ds_cluster_centers = {}\n",
    "for k, r in cluster_centers.iterrows():\n",
    "    ds_cluster_centers[k] = _reshape_for_dtw(ds_sub, ds_units.loc[r['index']])\n",
    "\n",
    "cluster_day_aligned = []\n",
    "for k, r in tqdm(cluster_day.iterrows(), total=len(cluster_day)):\n",
    "    ref = cluster_centers.loc[r.cluster]\n",
    "    if (ref['index'] == k):\n",
    "        x_aligned = ds_cluster_centers[r.cluster]\n",
    "    else:\n",
    "        target = _reshape_for_dtw(ds_sub, ds_units.loc[r.name])\n",
    "        x_aligned = align_to_ref(ds_cluster_centers[r.cluster], target)\n",
    "    cluster_day_aligned.append(_inverse_reshape(x_aligned.copy(), r.LCLid, r.cluster))\n",
    "cluster_day_aligned = pd.concat(cluster_day_aligned)\n",
    "        \n",
    "        "
   ]
  },
  {
   "cell_type": "code",
   "execution_count": null,
   "id": "5b21dd51-05ae-4a98-877b-da4e9861fa0f",
   "metadata": {},
   "outputs": [],
   "source": [
    "n_clusters = len(cluster_centers)\n",
    "fig, axes = plt.subplots(n_clusters, 1, figsize=(15, 5 * n_clusters))\n",
    "for k in cluster_centers.index:\n",
    "    sb.lineplot(data=cluster_day_aligned[cluster_day_aligned.cluster==k].reset_index(), \n",
    "                x='datetime', \n",
    "                y='energy',\n",
    "                ax=axes[k])\n",
    "vis_tools.add_facet_axes_labels(axes, n_clusters, 1, 'Hour', 'energy', [f'Cluster{k}' for k in cluster_centers.index]);\n",
    "    "
   ]
  }
 ],
 "metadata": {
  "language_info": {
   "name": "python",
   "pygments_lexer": "ipython3"
  }
 },
 "nbformat": 4,
 "nbformat_minor": 5
}
