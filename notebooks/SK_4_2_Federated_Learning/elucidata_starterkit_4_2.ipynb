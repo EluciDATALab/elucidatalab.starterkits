{
 "cells": [
  {
   "cell_type": "code",
   "execution_count": null,
   "id": "7b7e351c-5d8c-4afe-ac95-038558b09022",
   "metadata": {},
   "outputs": [],
   "source": [
    "import starterkits.starterkit_4_2.support as sp\n",
    "import starterkits.starterkit_4_2.visualizations as vis\n",
    "\n",
    "from pathlib import Path\n",
    "DATA_PATH = Path('../../data/')\n",
    "\n",
    "%load_ext autoreload\n",
    "%autoreload 2"
   ]
  },
  {
   "cell_type": "markdown",
   "id": "3a743093-bc0a-436b-b87f-5d841242914b",
   "metadata": {},
   "source": [
    "# Starter Kit 4.2: FedRepo: mitigate concept drift in federated context"
   ]
  },
  {
   "cell_type": "markdown",
   "id": "77d08a3b-c791-40bb-a731-31cbc47039b8",
   "metadata": {},
   "source": [
    "## Passport"
   ]
  },
  {
   "cell_type": "markdown",
   "id": "d7b76628-e9b0-4bd6-bd69-19d026783647",
   "metadata": {},
   "source": [
    "### Business context\n",
    "<span style=\"color:red;\">*I would start here with a bit more context, explaining that you want to forecast electricity consumption but that that is difficult given the heterogenity of households and patterns. Only then describe it as concept drift, to make it a bit more tangible for readers.*</span>\n",
    "In an increasingly connected world, the concept of federated learning is becoming crucial, especially in scenarios where data privacy is paramount, and bandwidth is a limiting factor. Federated learning enables multiple decentralized devices or servers (clients) to collaboratively learn a predictive model while keeping all training data local. This avoids the need to transfer large volumes of sensitive data to a central server for processing. However, federated learning environments face significant challenges:\n",
    "\n",
    " - Dynamic and heterogeneous data sources often lead to concept drift, where the underlying data patterns the model has learned change over time, potentially degrading the model's performance.\n",
    " - Limited bandwidth for communication between clients and the central server can hinder the efficiency of model updates and retraining processes.\n",
    " - Privacy concerns limit the amount and type of data that can be shared between clients, complicating the detection and mitigation of concept drift.\n",
    "\n",
    "These challenges necessitate advanced strategies for model training and maintenance to ensure that predictive models remain accurate and efficient over time without compromising privacy or incurring prohibitive communication costs.\n",
    "\n",
    "### Business goal\n",
    "<span style=\"color:red;\">*The same here.*</span>\n",
    "The business goal for this Starter Kit is **concept drift mitigation** in federated learning environments. Specifically, this Starter Kit applies a methodology called *FedRepo*, introduced by Tsiporkova et al. [1], that manages a dynamic repository of federated models to effectively cope with concept drift. The FedRepo methodology aims to provide a robust solution that maintains the accuracy and efficiency of the federated models over time, ensuring they adapt to changes in data dynamics while minimizing communication overhead.\n",
    "\n",
    "### Application Context\n",
    "The FedRepo methodology is applicable in various settings where data privacy and limited connectivity are major concerns:\n",
    "\n",
    " - Healthcare: Hospitals and medical institutions can collaborate on developing predictive models or improving diagnostic tools <span style=\"color:red;\">on more diverse data</span> without actually sharing patient data. \n",
    " - Wearables: User experience of several features (e.g. text prediction) can be enhanced on personal devices without compromising privacy.\n",
    " - Industrial: Assets manufactured by a third party (e.g. printers) can be used to collaborately learn predictive models without each customer having to share its data. <span style=\"color:red;\">*I don't understand this one. The space here is not as limited as in the paper, so another sentence doesn't hurt.*</span>\n",
    "\n",
    "### Starter Kit outline\n",
    "This Starter Kit will demonstrate the application of the FedRepo methodology using a real-world dataset. First, the dataset will be described, which contains electricity consumption data of UK households. Then, the FedRepo methodology will be explained and discussed through its key steps, while applying them on a subset of the households. For a <span style=\"color:red;\">more in-depth</span> explanation of all steps involved, please refer to the paper. Finally, the performance of the methodology is evaluated, also in terms of its adaptability and concept drift mitigation."
   ]
  },
  {
   "cell_type": "markdown",
   "id": "cc0b74b0-7e64-4dd4-8f69-99f5ceb716ac",
   "metadata": {},
   "source": [
    "## Dataset\n",
    "The forecasting of electricity consumption across households is a highly relevant application for this methodology as energy consumption of households obviously (<span style=\"color:red;\">*is it? There was this paper that showed that very nicely. You can refert to that one (Automatic socio-economic classification of households using electricity consumption data.\" Proceedings of the fourth international conference on Future energy systems. 2013).*</span>) is privacy-sensitive. Additionally, many factors could cause for concept drift to occur:\n",
    " - The occupation of the household in terms of its inhabitants\n",
    " - Replacement of household appliances\n",
    " - Seasonal influence on energy consumption\n",
    " - ...\n",
    "\n",
    "The data used is data collected by the UK Power Networks led Low Carbon London project<span style=\"color:red;\">[link to website]</span>. It consists of 5,567 households <span style=\"color:red;\">(given in column `consumer`)</span> in London representing a balanced sample representative of the Greater London population with a 30-minutes granularity between November 2011 and February 2014. The consumption <span style=\"color:red;\">(in column `consumption`)</span> is given in kWh. For demonstrating our methodology, we randomly selected 300 households for which we ensured that the data is available until at least 01/2014. For these households, a repository of federated models will be trained in order to forecast the consumption within the next 30 minutes. "
   ]
  },
  {
   "cell_type": "code",
   "execution_count": null,
   "id": "fbcb47c7-c325-4f05-81b3-af92dbd261ee",
   "metadata": {},
   "outputs": [],
   "source": [
    "household_subset = sp.get_data(DATA_PATH)\n",
    "household_subset"
   ]
  },
  {
   "cell_type": "markdown",
   "id": "22600b1a-a2e3-446e-bc5c-53c47810ceac",
   "metadata": {},
   "source": [
    "## Preprocess data\n",
    "\n",
    "<span style=\"color:red;\">For ensuring that the data is ready for modelling, we perform the following steps:</span> ~~The next step involves preprocessing the loaded dataset to ensure it's ready for modeling. This includes~~ data cleaning, feature engineering and splitting the data in train and test sets. <span style=\"color:red;\">*The following is difficult to understand. The reader doesn't know yet what you're training on. Hence, they might be confused why you train on 3 month only if you have data for 2.5 years. I guess this makes only sense to describe once they know the model*</span> For this data, a train set of three months is used (January to March 2012) and a test set of one month (April 2012). Features used are the consumption values of up to 6 hours ago, added with the consumption corresponding to same time and 30 minutes before and after on the previous day and week. Additionally, the day of the week, hour of the day and month of the year are also defined as features, with the latter two being cyclically endcoded <span style=\"color:red;\">*It doesn't hurt showing the features once. It's easier for people to understand.*</span>."
   ]
  },
  {
   "cell_type": "code",
   "execution_count": null,
   "id": "fb260f8a-48d7-412a-88b4-389bc8200743",
   "metadata": {},
   "outputs": [],
   "source": [
    "prep_data = sp.PreprocessConsumption(data=household_subset)\n",
    "prep_data.preprocess()"
   ]
  },
  {
   "cell_type": "markdown",
   "id": "70dc8d2d-83a1-42af-8da9-afb46b88588a",
   "metadata": {},
   "source": [
    "## FedRepo\n",
    "<span style=\"color:red;\">*I would try to explain the model a bit more on high level first. These starterkits are meant to be easily understandable... Hence, describing that the aim is to train models locally per consumer (I would only use consumer, not client and device because it's getting too much wording), but then to construct a global model on which the concept drift is detected. So people get an idea of what we're doing, before killing them with repositories.*</span>\n",
    "The FedRepo algorithm, designed to mitigate concept drift in federated learning environments, is structured around several key steps <span style=\"color:red;\">(cf. Figure below?)</span>. These steps ensure that the algorithm dynamically adapts to changes in data distributions across different clients or devices, maintaining the efficacy of the deployed models. FedRepo is built around the maintenance of three repositories residing in a central node, e.g., in the cloud. These are:\n",
    "\n",
    "- $Θ$: a repository of workers, which contains at any moment the workers (clients or devices) for which new federated models need to be constructed.\n",
    "- $Φ$: a repository of global federated random forest models, which contains at any moment the active (deployed) federated models.\n",
    "- $Γ$: a repository of tree models, which contains at any moment subsets of trees from local RF models of each worker.\n",
    "\n",
    "The proposed methodology will continuously update the above described repositories during the use of the federated models based on continuous monitoring and evaluation of the models’ performance. FedRepo consists of four main steps: *Initialization*, *Model training*, *Context-aware inference* and *Dynamic model maintenance*. These are shown in the image below which gives an overview of the methodology. Even though FedRepo is described and evaluated in a regression task scenario, the same methodology can be used for classification by using a proper evaluation metric.\n",
    "\n",
    "<span style=\"color:red;\">*On a wide screen the image looks really massive. Can you set a maxmium width?*</span>\n",
    "<table><tr><td><img src='media/fedrepo.png'><td></tr></table>"
   ]
  },
  {
   "cell_type": "markdown",
   "id": "115a4f0d-f3b2-4fcd-b4bf-0a125c847ecf",
   "metadata": {},
   "source": [
    "### Initialization\n",
    "This step is performed in the central node. The repository of federated RF models is empty since no RF models have been constructed yet, i.e., $Φ = ∅$. Analogously, the workers’ repository contains all available workers since for all of them the federated models still need to be constructed, i.e., $Θ = {θ_{1}, . . . , θ_{300}}$ and the repository of tree models is composed of 300 empty sets, one per worker, i.e., $Γ = {Γ_{1}, . . . , Γ_{300}}$, where $Γi = ∅$, for $i = 1, . . . ,300.$"
   ]
  },
  {
   "cell_type": "code",
   "execution_count": null,
   "id": "c5b199da-c3d4-4ea9-8e84-ce860b7b5b3b",
   "metadata": {},
   "outputs": [],
   "source": [
    "fedrepo = sp.FedRepo(data=prep_data)\n",
    "fedrepo.initialize()"
   ]
  },
  {
   "cell_type": "markdown",
   "id": "c8d76f08-310d-4fff-a181-5c80b22ae24a",
   "metadata": {},
   "source": [
    "### Training\n",
    "\n",
    "In this step, the model and worker repositories are updated such that devices similar with respect to the model performance are assigned to the same cluster of workers and hence collaboratively build and share the same RF <span style=\"color:red;\">*You didn't talk about random forest models before...*</span> federated model. For this, the following steps are executed:\n",
    "\n",
    "1. *Local Model Training*: Each worker trains a local RF model <span style=\"color:red;\">fore predicting the consumption in the next 30 minutes based on the features described above</span> on its training data and selects a subset of trees to contribute to the central repository. The local forests consist of 100 trees per worker. <span style=\"color:red;\">*Do we have any motivation for these 100 trees?*</span>\n",
    "\n",
    "2. *Tree Repository Update*: The central node updates the tree model repository with the trees received from all workers.\n",
    "\n",
    "3. *Federated Global Model Construction*: Construct the initial global RF model $Φ_{0}$ by randomly sampling 100 trees from the updated tree repository. <span style=\"color:red;\">*How?*</span>\n",
    "\n",
    "5. *Evaluation Feature Vector Construction*: Each worker evaluates every tree from the global model on its test data, and the performance metrics are used to construct an evaluation feature vector for each worker. <span style=\"color:red;\">For the regression model described here for the electricity consumption,</span> the RMSE score is used as the performance metric. <span style=\"color:red;\">This results in...</span>\n",
    "\n",
    "These steps will be performed by running the cell below. Note that the communication contents between the local workers and the central node have been: the locally trained trees (to the central node), the global model (to the local workers) and the performance scores (back to the central node). No local data was shared across workers or with the central node.\n",
    "\n",
    "<span style=\"color:red;\">*All of these steps above need more explanation. Describe it for practical use, not like for a journal paper.*</span>"
   ]
  },
  {
   "cell_type": "code",
   "execution_count": null,
   "id": "78ef6ab9-1804-481d-a731-731b3c317d52",
   "metadata": {},
   "outputs": [],
   "source": [
    "fedrepo.training()"
   ]
  },
  {
   "cell_type": "markdown",
   "id": "82f4ce72-c47b-47c7-a265-0a2fb4296eb0",
   "metadata": {},
   "source": [
    "### Clustering \n",
    "At this stage an evaluation vector of 100 scores exists for each of the 300 workers. These are collected in a matrix which serves as the basis for a clustering step in which similar workers are grouped together. This grouping is the start of the next few steps in the FedRepo algorithm:\n",
    "\n",
    "5. *Local Node Clustering*: To derive personalized models for a set of similar workers, the workers are split into $K$ non-overlapping clusters. These are obtained by applying the binary PSO algorithm on the evaluation feature vectors calculated in the previous step <span style=\"color:red;\">*Give at least a reference, even better a short explanation of the algorithm.*</span>. The binary PSO clustering has the advantage that the number of clusters does not need to be predefined. In theory, any other clustering method which does not require the number of clusters to be known could have been applied here.\n",
    "\n",
    "6. *Federated Cluster Models Construction*: For each cluster $k$, a federated RF model $Φ_{k}$ is built following the same procedure described in step 3. The trees contributed by all workers in cluster $k$, i.e., the trees contained in the respective $Γ_{i}$ for each worker $i$ in the cluster, are pooled together and reshuffled. Subsequently, 100 trees are randomly sampled to create the federated RF model $Φ_{k}$. This model is associated with an initial support score $s_{k}$ which reflects the relative size of the cluster. For example, if cluster $k$ contains 30 workers, than $s_{k}$ = $0.1$. <span style=\"color:red;\">*Also here you can probably phrase it a bit easier, with more words and less mathematical symbols.*</span>\n",
    "\n",
    "7. *Repository Update*: The repository of federated RF models $Φ$ is extended by adding the newly created federated cluster models. The repository of workers is reset, i.e., $Θ = ∅$, as all workers have an active cluster model deployed for them. The support of the global federated RF model $Φ_{0}$ is also reset to zero, i.e., $s_{0} = 0$.\n",
    "\n",
    "Running the cell below will execute the PSO clustering, which consists of multiple iterations to find the optimal clustering configuration with regard to a clustering metric. Here, the silhouette score is used. <span style=\"color:red;\">*Describe what you see in the figures.*</span>"
   ]
  },
  {
   "cell_type": "code",
   "execution_count": null,
   "id": "35ecbcdb-8da8-47a9-8c73-a9a94bff78db",
   "metadata": {},
   "outputs": [],
   "source": [
    "fedrepo.clustering()"
   ]
  },
  {
   "cell_type": "markdown",
   "id": "40d59ada-21da-436a-bd58-c3d269ed3a89",
   "metadata": {},
   "source": [
    "The figure below shows the evaluation vector of each worker, color coded by which cluster the worker belongs to. It helps to visualize the differences between workers with regard to the performance of each tree of the global model. Clustering on these vectors in essence enables to identify common behavioural patterns across groups of workers. <span style=\"color:red;\">*This is on the one month of validation data?*</span>"
   ]
  },
  {
   "cell_type": "code",
   "execution_count": null,
   "id": "15f81d90-dbd0-4efc-9b38-50ae5839db28",
   "metadata": {},
   "outputs": [],
   "source": [
    "vis.show_clusters(fedrepo.evaluation_vectors, fedrepo.clusters)"
   ]
  },
  {
   "cell_type": "markdown",
   "id": "4d697b6e-0d84-4d38-9e37-d138ac714062",
   "metadata": {},
   "source": [
    "### Prediction\n",
    "All workers receive the parameters of their cluster federated model. One way to proceed can be to apply these initial cluster models on the full validation set, which is defined as the data between May 2012 and December 2013. To enable comparison, also the predictions of the global and local models are generated."
   ]
  },
  {
   "cell_type": "code",
   "execution_count": null,
   "id": "c8139801-b280-4c36-b3a5-e22a8314dab7",
   "metadata": {},
   "outputs": [],
   "source": [
    "fedrepo.generate_without_maintenance()"
   ]
  },
  {
   "cell_type": "markdown",
   "id": "510b030e-93ca-4129-b24d-841aa210577e",
   "metadata": {},
   "source": [
    "### Concept drift mitigation\n",
    "\n",
    "Instead of naively applying the initial cluster models without modification, FedRepo proposes a framework to perform dynamic maintenance to mitigate concept drift. The basis of this framework is to calculate the RMSE score between the predicted and observed values after each day. This score is compared to a threshold $δ$, that is derived from the model’s performance on the worker's test set. If the RMSE score is above the threshold for three days in a row, the following steps are conducted:\n",
    "\n",
    "1. *Global Model Activation*: The overall federated global model $Φ_{0}$ is activated for the worker in question, i.e., the worker is added to $Θ$ and the support of $Φ_{0}$ is updated accordingly, i.e., $s_{0} = s_{0} + 1/300$.\n",
    "\n",
    "2. *Model Parameter Update*: The parameters of the corresponding (cluster) federated model ($Φ_{k}, Θ_{k}, s_{k}$) are updated, i.e., the worker is removed from the list of workers that use this model and the model support is reduced accordingly such that $s_{k} = s_{k} − 1/M$.\n",
    "\n",
    "Concept drift in the consumption pattern of a worker thus is identified by monitoring the performance of its cluster model. If this performance drops (increasing error score) for a sufficiently long period (3 days), the cluster model is deactivated for this worker and the global model is put as replacement. The global model acts as a baseline, one-fits-all model that is assumed to mitigate the effects of concept drift for a worker that no longer fits its customized model. Each time the global model is activated for a worker, some maintenance checks need to be executed. These involve the identification of cluster models of which the support has dropped too low and verify whether a retraining is needed:\n",
    "\n",
    "1. *Workers’ Repository*: For each federated cluster model $k$, if its support $s_{k}$ is smaller than a predefined threshold $z$, its workers are added to the workers’ repository $Θ$.\n",
    "\n",
    "2. *Cluster Model Deactivation*: The federated cluster model $Φ_{k}$ is deactivated by resetting its support $s_{k} = 0$. The overall federated global model $Φ_{0}$ is activated for the remaining workers that still used the deactivated model and the support of $Φ_{0}$ is updated accordingly, i.e., $s_{0} = s_{0}$ +  # $Θ_{k}/M$.\n",
    "\n",
    "3. *Federated Models’ Repository*: If the support $s_{0}$ of the overall federated global model $Φ_{0}$ is above the predefined threshold $Δ$, retraining is performed with the workers in $Θ$. Local models are trained on the previous three months and new trees are sent to the tree repositories of the respective workers to replace the previously contributed trees. The global model is updated by sampling random trees from the update tree repositories and clustering is performed in the same way as before. New cluster models are added to the repository of federated models, causing every worker to again have an active cluster model and resetting the support of the global model to 0. Note that for the workers not present in $Θ$ before retraining and therefore still have an active cluster model, nothing has changed.\n",
    "\n",
    "For this data, a cluster model is said to have too low support when it drops below 10 workers, i.e. $z = 0.033$, and retraining is invoked when the workers' repository surpasses 60 workers, i.e. $Δ = 0.2$. Running the cell below will apply the dynamic concept drift mitigation on the validation set.\n",
    "\n"
   ]
  },
  {
   "cell_type": "code",
   "execution_count": null,
   "id": "7e17b89b-5b9a-49df-b0e0-fca0a96cd443",
   "metadata": {},
   "outputs": [],
   "source": [
    "fedrepo.concept_drift_mitigation()"
   ]
  },
  {
   "cell_type": "markdown",
   "id": "58b56227-b99b-48f3-8f8e-0ec7a44b2859",
   "metadata": {},
   "source": [
    "# Still unfinished from here on"
   ]
  },
  {
   "cell_type": "markdown",
   "id": "3b5d2273-8826-4725-b394-9d3b296c1630",
   "metadata": {},
   "source": [
    "## Discussion\n",
    "\n",
    "The above introduced FL method has several advantages for tackling distributed concept drift. First of all, the concept drift detection comes with a very small overhead, as during the regular inference phase not only the actual forecast values are calculated, but additionally the residuals. Based on the residuals, the concept drift is detected locally, while the repositories are updated in the central node. Furthermore, the concept drift is not assumed to happen at the same time across different workers. Instead, each worker can be part of a shared repository built on information from similar devices or activate the federated global model in case its performance is degrading before being assigned to a new repository. Third, the number of models is not predefined and constant, as the binary PSO allows a flexible number of clusters. With this, any flexible change in behaviour is captured. Finally, as the worker clustering is performed on the model performance only, it is not necessary to share the actual patterns of the workers’ data with the central node."
   ]
  },
  {
   "cell_type": "code",
   "execution_count": null,
   "id": "a60dc24f-9cb0-4509-b61d-9f3d1f55e1e0",
   "metadata": {},
   "outputs": [],
   "source": [
    "del fedrepo.worker_data"
   ]
  },
  {
   "cell_type": "code",
   "execution_count": null,
   "id": "9197c807-2907-4f93-ac3f-fbb4f5d8ca30",
   "metadata": {},
   "outputs": [],
   "source": []
  },
  {
   "cell_type": "code",
   "execution_count": null,
   "id": "17ac7087-c33e-493e-a6c2-52a16cfe1f99",
   "metadata": {},
   "outputs": [],
   "source": [
    "import plotly.express as px\n"
   ]
  },
  {
   "cell_type": "code",
   "execution_count": null,
   "id": "f3a67550-6a62-4358-b25e-5a6f03d008f0",
   "metadata": {},
   "outputs": [],
   "source": []
  },
  {
   "cell_type": "code",
   "execution_count": null,
   "id": "cf164eb2-76fc-4d0d-837e-58d0693ae3ef",
   "metadata": {},
   "outputs": [],
   "source": []
  },
  {
   "cell_type": "code",
   "execution_count": null,
   "id": "9207171c-ed59-4e89-ab40-490312005dd4",
   "metadata": {},
   "outputs": [],
   "source": [
    "import pickle\n",
    "\n",
    "with open('fedrepo_obj_w_data.pkl', 'wb') as filename:\n",
    "    pickle.dump(fedrepo, filename)"
   ]
  },
  {
   "cell_type": "code",
   "execution_count": null,
   "id": "d6a1922a-f69d-417e-8275-9781879db8e5",
   "metadata": {},
   "outputs": [],
   "source": []
  },
  {
   "cell_type": "code",
   "execution_count": null,
   "id": "ea4c0a09-5a23-42c8-99b4-813dcbec5aae",
   "metadata": {},
   "outputs": [],
   "source": [
    "fedrepo.maintenance_log"
   ]
  },
  {
   "cell_type": "code",
   "execution_count": null,
   "id": "1c77662b-cede-4e71-908b-3d387f075ad4",
   "metadata": {},
   "outputs": [],
   "source": [
    "[model.support for model in fedrepo.active_models]"
   ]
  },
  {
   "cell_type": "code",
   "execution_count": null,
   "id": "9dd62326-dea6-4f62-81e2-1a8598932586",
   "metadata": {},
   "outputs": [],
   "source": [
    "fedrepo.forest_support_threshold"
   ]
  },
  {
   "cell_type": "code",
   "execution_count": null,
   "id": "955608f6-3b80-45d9-b780-0a58226b90cd",
   "metadata": {},
   "outputs": [],
   "source": [
    "fedrepo.worker_repo_threshold"
   ]
  },
  {
   "cell_type": "code",
   "execution_count": null,
   "id": "1f3776ec-5bbe-49b4-a9d9-310f3d103a80",
   "metadata": {},
   "outputs": [],
   "source": [
    "len(fedrepo.worker_repo)"
   ]
  },
  {
   "cell_type": "code",
   "execution_count": null,
   "id": "07d6b6dd-0760-49f0-8fcc-80545f25e2cb",
   "metadata": {},
   "outputs": [],
   "source": [
    "fedrepo.worker_repo = fedrepo.client_ids"
   ]
  },
  {
   "cell_type": "code",
   "execution_count": null,
   "id": "8d2db70e-e865-4b63-9ad4-410d09c774e4",
   "metadata": {},
   "outputs": [],
   "source": [
    "fedrepo.active_models = {}\n",
    "fedrepo.worker_repo = []\n",
    "fedrepo.create_cluster_models()\n",
    "fedrepo.active_models[fedrepo.global_forest] = []\n",
    "\n",
    "fedrepo.drift_detection_dict = {worker: {'predictions': [],\n",
    "                                      'rmse': [],\n",
    "                                      'pred_index': [],\n",
    "                                      'active_model': []} for worker in fedrepo.client_ids}"
   ]
  },
  {
   "cell_type": "code",
   "execution_count": null,
   "id": "2b442e39-632e-41b5-b9f8-bd9c91bb009b",
   "metadata": {},
   "outputs": [],
   "source": [
    "fedrepo.check_worker_allocation()"
   ]
  },
  {
   "cell_type": "code",
   "execution_count": null,
   "id": "6cafd929-7ebd-44a9-9546-c5966693f3a6",
   "metadata": {},
   "outputs": [],
   "source": [
    "fedrepo.clusters"
   ]
  },
  {
   "cell_type": "code",
   "execution_count": null,
   "id": "36298164-33a7-4f86-8ff8-a17995e18bc4",
   "metadata": {},
   "outputs": [],
   "source": [
    "sum([len(clus) for clus in fedrepo.clusters])"
   ]
  },
  {
   "cell_type": "code",
   "execution_count": null,
   "id": "2e9b5ddc-5d0c-473b-b9d5-b70b601976b8",
   "metadata": {},
   "outputs": [],
   "source": [
    "sum([len(value) for value in fedrepo.active_models.values()])"
   ]
  },
  {
   "cell_type": "code",
   "execution_count": null,
   "id": "c44dd204-e804-4a10-a96a-36499a65cdc5",
   "metadata": {},
   "outputs": [],
   "source": [
    "len(fedrepo.active_models[fedrepo.global_forest])"
   ]
  },
  {
   "cell_type": "code",
   "execution_count": null,
   "id": "34cc0b89-bbd4-41e2-be55-5f3c11f46965",
   "metadata": {},
   "outputs": [],
   "source": [
    "sum([len(model) for model in fedrepo.active_models.values()])"
   ]
  },
  {
   "cell_type": "code",
   "execution_count": null,
   "id": "ee356220-61d5-4610-b056-e7648a7a7ea0",
   "metadata": {},
   "outputs": [],
   "source": [
    "px.line(fedrepo.worker_repository_hist)"
   ]
  },
  {
   "cell_type": "code",
   "execution_count": null,
   "id": "e5cfb5c8-fd78-47e8-aa55-f573a722b0bd",
   "metadata": {},
   "outputs": [],
   "source": []
  },
  {
   "cell_type": "code",
   "execution_count": null,
   "id": "55c45881-a5e4-4b18-a26f-67452235cc43",
   "metadata": {},
   "outputs": [],
   "source": [
    "import plotly.express as px\n",
    "px.line(x=fedrepo.drift_detection_dict['MAC000018']['pred_index'].dt.resample('D'), y=fedrepo.drift_detection_dict['MAC000018']['rmse'])"
   ]
  },
  {
   "cell_type": "code",
   "execution_count": null,
   "id": "daac666c-45b1-4385-974b-0899fda39b04",
   "metadata": {},
   "outputs": [],
   "source": [
    "import pandas as pd"
   ]
  },
  {
   "cell_type": "markdown",
   "id": "8d1bd8a3-6f2a-401a-9681-3b78e21eebe4",
   "metadata": {},
   "source": [
    "[1] Tsiporkova, E., De Vis, M., Klein, S., Hristoskova, A., & Boeva, V. (2023). Mitigating Concept Drift in Distributed Contexts with Dynamic Repository of Federated Models. In 2023 IEEE International Conference on Big Data (BigData) (pp. 2690-2699). IEEE."
   ]
  },
  {
   "cell_type": "code",
   "execution_count": null,
   "id": "e93a39ab-c131-4a6e-a67f-43d8fafdd5dd",
   "metadata": {},
   "outputs": [],
   "source": []
  }
 ],
 "metadata": {
  "language_info": {
   "name": "python",
   "pygments_lexer": "ipython3"
  }
 },
 "nbformat": 4,
 "nbformat_minor": 5
}
